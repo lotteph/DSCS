{
 "cells": [
  {
   "cell_type": "markdown",
   "id": "a33fdc69",
   "metadata": {},
   "source": [
    "# Fitbit API\n",
    "https://github.com/mGalarnyk/Python_Tutorials/blob/master/Apis/Fitbit/Fitbit_API.ipynb\n",
    "\n",
    "https://github.com/orcasgit/python-fitbit\n",
    "\n",
    "This code makes use of the python-fitbit api and cherrypy, which can be installed by following the links above"
   ]
  },
  {
   "cell_type": "code",
   "execution_count": null,
   "id": "8b5c5cef",
   "metadata": {},
   "outputs": [],
   "source": [
    "import gather_keys_oauth2 as Oauth2\n",
    "import fitbit\n",
    "import pandas as pd \n",
    "import datetime\n",
    "\n",
    "CLIENT_ID='2388K5'\n",
    "CLIENT_SECRET='b49da8eef0b5aa709bfafef69d68ae9c'\n",
    "\n",
    "server=Oauth2.OAuth2Server(CLIENT_ID, CLIENT_SECRET)\n",
    "server.browser_authorize()\n",
    "ACCESS_TOKEN=str(server.fitbit.client.session.token['access_token'])\n",
    "REFRESH_TOKEN=str(server.fitbit.client.session.token['refresh_token'])\n",
    "auth2_client=fitbit.Fitbit(CLIENT_ID,CLIENT_SECRET,oauth2=True,access_token=ACCESS_TOKEN,refresh_token=REFRESH_TOKEN)"
   ]
  },
  {
   "cell_type": "code",
   "execution_count": null,
   "id": "81e60343",
   "metadata": {},
   "outputs": [],
   "source": [
    "oneDate = pd.datetime(year = 2021, month = 10, day = 21)\n",
    "oneDayData = auth2_client.intraday_time_series('activities/heart', oneDate, detail_level='1sec')"
   ]
  },
  {
   "cell_type": "code",
   "execution_count": null,
   "id": "103f6ebc",
   "metadata": {},
   "outputs": [],
   "source": [
    "oneDayData"
   ]
  },
  {
   "cell_type": "code",
   "execution_count": null,
   "id": "d8542174",
   "metadata": {},
   "outputs": [],
   "source": [
    "auth2_client.activities_daily_goal(active_minutes=120)"
   ]
  },
  {
   "cell_type": "code",
   "execution_count": null,
   "id": "c3a4926c",
   "metadata": {},
   "outputs": [],
   "source": [
    "auth2_client.activities_daily_goal()"
   ]
  }
 ],
 "metadata": {
  "kernelspec": {
   "display_name": "Python 3 (ipykernel)",
   "language": "python",
   "name": "python3"
  },
  "language_info": {
   "codemirror_mode": {
    "name": "ipython",
    "version": 3
   },
   "file_extension": ".py",
   "mimetype": "text/x-python",
   "name": "python",
   "nbconvert_exporter": "python",
   "pygments_lexer": "ipython3",
   "version": "3.9.7"
  }
 },
 "nbformat": 4,
 "nbformat_minor": 5
}
