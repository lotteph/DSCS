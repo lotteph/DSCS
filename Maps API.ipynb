{
 "cells": [
  {
   "cell_type": "code",
   "execution_count": null,
   "metadata": {},
   "outputs": [],
   "source": [
    "import requests\n",
    "import json"
   ]
  },
  {
   "cell_type": "code",
   "execution_count": null,
   "metadata": {},
   "outputs": [],
   "source": [
    "GOOGLE_MAPS_KEY = \"\""
   ]
  },
  {
   "cell_type": "code",
   "execution_count": null,
   "metadata": {},
   "outputs": [],
   "source": [
    "# import requests\n",
    "\n",
    "# vertrek = 'Prins Bernhardplein 175'\n",
    "# bestemming = 'Amsterdam Science Park'\n",
    "\n",
    "# url = \"https://maps.googleapis.com/maps/api/directions/json?origin={origin}&destination={destination}&mode=transit&key=\".format(origin=vertrek, destination=bestemming) + GOOGLE_MAPS_KEY\n",
    "\n",
    "# payload={}\n",
    "# headers = {}\n",
    "\n",
    "# response = requests.request(\"GET\", url, headers=headers, data=payload)\n",
    "\n",
    "# print(response.text)"
   ]
  },
  {
   "cell_type": "code",
   "execution_count": null,
   "metadata": {},
   "outputs": [],
   "source": [
    "import requests\n",
    "\n",
    "ORIG = 'Prins Bernhardplein 175'\n",
    "DEST = 'Amsterdam Science Park'\n",
    "\n",
    "url = \"https://maps.googleapis.com/maps/api/directions/json?origin={origin}&destination={destination}&mode=transit&key=\".format(origin=ORIG, destination=DEST) + GOOGLE_MAPS_KEY\n",
    "\n",
    "payload={}\n",
    "headers = {}\n",
    "\n",
    "response = requests.request(\"GET\", url, headers=headers, data=payload)\n",
    "\n",
    "response = eval(response.text)\n",
    "\n",
    "departure_time = response['routes'][0]['legs'][0]['departure_time']['text']\n",
    "print(departure_time)\n",
    "\n",
    "arrival_time = response['routes'][0]['legs'][0]['arrival_time']['text']\n",
    "print(arrival_time)\n",
    "\n",
    "start_address = response['routes'][0]['legs'][0]['start_address']\n",
    "print(start_address)\n",
    "\n",
    "end_address = response['routes'][0]['legs'][0]['end_address']\n",
    "print(end_address)\n",
    "\n",
    "end_loc = response['routes'][0]['legs'][0]['end_location']\n",
    "print(end_loc)\n",
    "\n",
    "duration = response['routes'][0]['legs'][0]['duration']['text']\n",
    "print(duration)\n",
    "\n",
    "legs = []\n",
    "for i in response['routes'][0]['legs'][0]['steps']:\n",
    "    try:\n",
    "        legs.append((i['distance']['text'], i['duration']['text'], i['travel_mode'], i['transit_details']['line']['vehicle']['type'], i['transit_details']['headsign'], i['transit_details']['line']['short_name'], i['transit_details']['num_stops']))\n",
    "    except:\n",
    "        legs.append((i['distance']['text'], i['duration']['text'], i['travel_mode']))\n",
    "print(legs)\n",
    "\n"
   ]
  },
  {
   "cell_type": "code",
   "execution_count": null,
   "metadata": {},
   "outputs": [],
   "source": [
    "import pandas as pd\n",
    "df = pd.read_csv('lijn40_ordered.csv')\n",
    "df"
   ]
  },
  {
   "cell_type": "code",
   "execution_count": null,
   "metadata": {},
   "outputs": [],
   "source": [
    "DARKSKY_KEY = \"\""
   ]
  },
  {
   "cell_type": "code",
   "execution_count": null,
   "metadata": {},
   "outputs": [],
   "source": [
    "last_departure_stop = 'Amsterdam, Amstelstation'\n",
    "last_departure_time = '4:51pm'\n",
    "last_arrival_stop = 'Amsterdam, Science Park Terra'\n",
    "last_arrival_time = '5:01pm'\n",
    "final_destination = DEST\n",
    "final_arrival_time = '5:02pm'\n",
    "\n",
    "def get_weather(longitude,latitude):\n",
    "#Gets a json_object with the current weather on the given coordinate\n",
    "    URL = \"https://api.darksky.net/forecast/\" + DARKSKY_KEY + \"/\" + str(latitude) + \",\" + str(longitude) +\"?exclude=daily,alerts\"\n",
    "    r = requests.get(URL)\n",
    "    json_str = r.content.decode(\"utf8\").replace(\"'\", '\"')\n",
    "    json_object = json.loads(json_str)\n",
    "    return json_object\n",
    "\n",
    "def go_walk(last_departure_stop, last_departure_time, last_arrival_stop, last_arrival_time, final_destination, final_arrival_time):\n",
    "    \n",
    "    # read to use the csv of line 40\n",
    "    df = pd.read_csv('lijn40_ordered.csv')\n",
    "    \n",
    "    # the orderlocation of the busstop where the last leg starts\n",
    "    A = df[df['haltenaam'] == last_departure_stop].index.values[0]\n",
    "    \n",
    "    # the order location of the arrival stop\n",
    "    B = df[df['haltenaam'] == last_arrival_stop].index.values[0]\n",
    "    \n",
    "    # get all stops in between the start and arrival of the last leg and order them correctly\n",
    "    if A < B:\n",
    "        stoplist = df[A:B+1]['haltenaam']\n",
    "    if B < A:\n",
    "        stoplist = df[B:A+1]['haltenaam'][::-1]\n",
    "    \n",
    "    # get the walking time and distance from each stop to the final destination\n",
    "    results = []\n",
    "    for stop in stoplist:\n",
    "        url = \"https://maps.googleapis.com/maps/api/directions/json?origin={origin}&destination={destination}&mode=walking&key=\".format(origin=stop, destination=final_destination) + GOOGLE_MAPS_KEY\n",
    "        payload={}\n",
    "        headers = {}\n",
    "        response = requests.request(\"GET\", url, headers=headers, data=payload)\n",
    "        response = eval(response.text)\n",
    "        \n",
    "        # get duration and distance\n",
    "        duration = response['routes'][0]['legs'][0]['duration']['text']\n",
    "        distance = response['routes'][0]['legs'][0]['distance']['text']\n",
    "        \n",
    "        # get start address (for control if it picked the right lcoation)\n",
    "        start_address = response['routes'][0]['legs'][0]['start_address']\n",
    "        \n",
    "        # order results that are returened\n",
    "        results.append([start_address, duration, distance])\n",
    "        \n",
    "        # get lng and lat of end location for weather\n",
    "        end = response['routes'][0]['legs'][0]['end_location']\n",
    "        \n",
    "        # get weather and oder results\n",
    "        weather = get_weather(end['lng'], end['lat'])\n",
    "        weather_result = [weather['currently']['summary'], weather['currently']['precipProbability'], weather['currently']['temperature']]\n",
    "    \n",
    "    return results, weather_result\n",
    "    \n",
    "go_walk(last_departure_stop, last_departure_time, last_arrival_stop, last_arrival_time, final_destination, final_arrival_time)"
   ]
  },
  {
   "cell_type": "code",
   "execution_count": null,
   "metadata": {},
   "outputs": [],
   "source": []
  }
 ],
 "metadata": {
  "kernelspec": {
   "display_name": "Python 3 (ipykernel)",
   "language": "python",
   "name": "python3"
  },
  "language_info": {
   "codemirror_mode": {
    "name": "ipython",
    "version": 3
   },
   "file_extension": ".py",
   "mimetype": "text/x-python",
   "name": "python",
   "nbconvert_exporter": "python",
   "pygments_lexer": "ipython3",
   "version": "3.9.7"
  }
 },
 "nbformat": 4,
 "nbformat_minor": 4
}
