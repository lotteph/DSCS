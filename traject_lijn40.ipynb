{
 "cells": [
  {
   "cell_type": "code",
   "execution_count": null,
   "id": "90acf7d5",
   "metadata": {},
   "outputs": [],
   "source": [
    "import pandas as pd"
   ]
  },
  {
   "cell_type": "code",
   "execution_count": null,
   "id": "fbcf217f",
   "metadata": {
    "scrolled": true
   },
   "outputs": [],
   "source": [
    "trajecten = pd.read_csv('trajecten.csv')"
   ]
  },
  {
   "cell_type": "code",
   "execution_count": null,
   "id": "37ede2ff",
   "metadata": {},
   "outputs": [],
   "source": [
    "lijn40 = trajecten[(trajecten['lijnnr'] == '40') & (trajecten['dagcode'] == 5) & (trajecten['richting'] == 1) & (trajecten['maatschappij'] == 'GVB')]\n",
    "lijn40 = lijn40.reset_index()\n",
    "pekelharing =  lijn40.iloc[7]\n",
    "pekelharing['haltenaam'] = 'Amsterdam, Pekelharingstraat'\n",
    "lijn40 = lijn40.drop([7, 12])\n",
    "lijn40 = lijn40.append(pekelharing)\n",
    "lijn40 = lijn40.reset_index()\n",
    "lijn40 = lijn40.drop(columns=['level_0', 'index'])\n",
    "lijn40"
   ]
  },
  {
   "cell_type": "code",
   "execution_count": null,
   "id": "3f6ac941",
   "metadata": {},
   "outputs": [],
   "source": [
    "correct_order = [0, 14, 12, 13, 10, 4, 6, 7, 5, 9, 8, 3, 1, 2, 15, 11]\n",
    "lijn40['correctorder'] = correct_order"
   ]
  },
  {
   "cell_type": "code",
   "execution_count": null,
   "id": "6a1c931a",
   "metadata": {},
   "outputs": [],
   "source": [
    "lijn40 = lijn40.set_index('correctorder')"
   ]
  },
  {
   "cell_type": "code",
   "execution_count": null,
   "id": "d3b7d434",
   "metadata": {},
   "outputs": [],
   "source": [
    "lijn40 = lijn40.sort_index()"
   ]
  },
  {
   "cell_type": "code",
   "execution_count": null,
   "id": "5e71593f",
   "metadata": {},
   "outputs": [],
   "source": [
    "lijn40"
   ]
  },
  {
   "cell_type": "code",
   "execution_count": null,
   "id": "50d04f5e",
   "metadata": {},
   "outputs": [],
   "source": []
  }
 ],
 "metadata": {
  "kernelspec": {
   "display_name": "Python 3 (ipykernel)",
   "language": "python",
   "name": "python3"
  },
  "language_info": {
   "codemirror_mode": {
    "name": "ipython",
    "version": 3
   },
   "file_extension": ".py",
   "mimetype": "text/x-python",
   "name": "python",
   "nbconvert_exporter": "python",
   "pygments_lexer": "ipython3",
   "version": "3.9.7"
  }
 },
 "nbformat": 4,
 "nbformat_minor": 5
}
