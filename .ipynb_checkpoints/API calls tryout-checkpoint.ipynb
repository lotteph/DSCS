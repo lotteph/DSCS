{
 "cells": [
  {
   "cell_type": "code",
   "execution_count": null,
   "id": "5797dd76",
   "metadata": {},
   "outputs": [],
   "source": [
    "import requests\n",
    "import json\n",
    "import pandas as pd\n",
    "import geocoder\n",
    "from time import mktime\n",
    "import datetime"
   ]
  },
  {
   "cell_type": "markdown",
   "id": "62b0de69",
   "metadata": {},
   "source": [
    "# Darksky API\n",
    "1000 calls per day\n",
    "\n",
    "https://darksky.net/dev/docs"
   ]
  },
  {
   "cell_type": "code",
   "execution_count": null,
   "id": "73056b86",
   "metadata": {},
   "outputs": [],
   "source": [
    "DARKSKY_KEY = \"\""
   ]
  },
  {
   "cell_type": "code",
   "execution_count": null,
   "id": "c9586d43",
   "metadata": {},
   "outputs": [],
   "source": [
    "# Get current location in latitude and longitude\n",
    "\n",
    "g = geocoder.ip('me')\n",
    "print(g.latlng)\n",
    "LAT = g.latlng[0]\n",
    "LONG = g.latlng[1]\n",
    "date = datetime.datetime.now()"
   ]
  },
  {
   "cell_type": "code",
   "execution_count": null,
   "id": "5e2c2fa0",
   "metadata": {},
   "outputs": [],
   "source": [
    "def get_darksky_features(longitude, latitude, date):\n",
    "    unix_date = mktime(date.timetuple())\n",
    "    URL = \"https://api.darksky.net/forecast/\" + DARKSKY_KEY + \"/\" + str(latitude) + \",\" + str(longitude) + \",\" + str(int(unix_date)) +\"?exclude=daily,alerts,flags&units=ca\"\n",
    "    r = requests.get(URL)\n",
    "    json_str = r.content.decode(\"utf8\").replace(\"'\", '\"')\n",
    "    json_object = json.loads(json_str)\n",
    "    return json_object"
   ]
  },
  {
   "cell_type": "code",
   "execution_count": null,
   "id": "a6a0b087",
   "metadata": {},
   "outputs": [],
   "source": [
    "obj = get_darksky_features(LONG, LAT, date)"
   ]
  },
  {
   "cell_type": "code",
   "execution_count": null,
   "id": "a20e215c",
   "metadata": {},
   "outputs": [],
   "source": [
    "obj"
   ]
  },
  {
   "cell_type": "markdown",
   "id": "a1e448d8",
   "metadata": {},
   "source": [
    "# NS API\n",
    "1000 calls per 5 minutes (I think)\n",
    "\n",
    "Probably not going to use this API since we have the Google Directions API"
   ]
  },
  {
   "cell_type": "code",
   "execution_count": null,
   "id": "075e9bc2",
   "metadata": {},
   "outputs": [],
   "source": [
    "# NS_REIS_KEY = \"\""
   ]
  },
  {
   "cell_type": "code",
   "execution_count": null,
   "id": "428e710c",
   "metadata": {},
   "outputs": [],
   "source": [
    "# # Code from https://apiportal.ns.nl/docs/services/reisinformatie-api/operations/getStations?\n",
    "# import http.client, urllib.request, urllib.parse, urllib.error, base64\n",
    "\n",
    "# headers = {\n",
    "#     # Request headers\n",
    "#     'Ocp-Apim-Subscription-Key': NS_REIS_KEY,\n",
    "# }\n",
    "\n",
    "# params = urllib.parse.urlencode({\n",
    "# })\n",
    "\n",
    "# try:\n",
    "#     conn = http.client.HTTPSConnection('gateway.apiportal.ns.nl')\n",
    "#     conn.request(\"GET\", \"/reisinformatie-api/api/v2/stations?%s\" % params, \"{body}\", headers)\n",
    "#     response = conn.getresponse()\n",
    "#     data = response.read()\n",
    "#     print(data)\n",
    "#     conn.close()\n",
    "# except Exception as e:\n",
    "#     print(\"[Errno {0}] {1}\".format(e.errno, e.strerror))"
   ]
  },
  {
   "cell_type": "code",
   "execution_count": null,
   "id": "4174cdd1",
   "metadata": {},
   "outputs": [],
   "source": [
    "# import http.client, urllib.request, urllib.parse, urllib.error, base64\n",
    "\n",
    "# headers = {\n",
    "#     # Request headers\n",
    "#     'Authorization': '',\n",
    "#     'Ocp-Apim-Subscription-Key': NS_REIS_KEY,\n",
    "# }\n",
    "\n",
    "# params = urllib.parse.urlencode({\n",
    "#     # Request parameters\n",
    "#     'originLat': 52.371269,\n",
    "#     'originLng': 4.966500,\n",
    "#     'destinationLat': 52.374,\n",
    "#     'destinationLng': 4.8897,\n",
    "# })\n",
    "\n",
    "# try:\n",
    "#     conn = http.client.HTTPSConnection('gateway.apiportal.ns.nl')\n",
    "#     conn.request(\"GET\", \"/reisinformatie-api/api/v3/trips?%s\" % params, \"{body}\", headers)\n",
    "#     response = conn.getresponse()\n",
    "#     data = response.read()\n",
    "#     print(data)\n",
    "#     conn.close()\n",
    "# except Exception as e:\n",
    "#     print(\"[Errno {0}] {1}\".format(e.errno, e.strerror))"
   ]
  },
  {
   "cell_type": "markdown",
   "id": "9d667e8a",
   "metadata": {},
   "source": [
    "# Google Maps API"
   ]
  },
  {
   "cell_type": "code",
   "execution_count": null,
   "id": "442c754d",
   "metadata": {},
   "outputs": [],
   "source": [
    "GOOGLE_MAPS_KEY = \"\"\n",
    "ORIG = \"Marie Baronlaan 19\"\n",
    "DEST = \"Science Park 904\"\n",
    "date = datetime.datetime.now()\n",
    "TIME = mktime(date.timetuple())\n",
    "TIME = str(int(1647943620))"
   ]
  },
  {
   "cell_type": "code",
   "execution_count": null,
   "id": "522c3035",
   "metadata": {},
   "outputs": [],
   "source": [
    "url = \"https://maps.googleapis.com/maps/api/directions/json?origin=\" + ORIG + \"&destination=\" + DEST + \"&mode=transit&departure_time=\" + TIME + \"&key=\" + GOOGLE_MAPS_KEY + \"&alternatives=true\"\n",
    "\n",
    "payload={}\n",
    "headers = {}\n",
    "\n",
    "response = requests.request(\"GET\", url, headers=headers, data=payload)\n",
    "\n",
    "print(response.text)"
   ]
  },
  {
   "cell_type": "code",
   "execution_count": null,
   "id": "7455e37a",
   "metadata": {
    "scrolled": true
   },
   "outputs": [],
   "source": [
    "json_resp = json.loads(response.text)\n",
    "\n",
    "    \n",
    "for item in json_resp['routes']:\n",
    "    print(item)\n",
    "    print('\\n')"
   ]
  },
  {
   "cell_type": "code",
   "execution_count": null,
   "id": "d8542174",
   "metadata": {},
   "outputs": [],
   "source": [
    "route = json_resp['routes'][1]['legs'][0]\n",
    "print(route['arrival_time'])\n",
    "print(route['departure_time'])\n",
    "print(route['distance']['text'])\n",
    "print(route['duration']['text'])\n",
    "print(route['start_address'].split(',')[0])\n",
    "print(route['end_address'].split(',')[0])\n",
    "print(route['end_location'])\n",
    "for item in route:\n",
    "    print(item)"
   ]
  },
  {
   "cell_type": "code",
   "execution_count": null,
   "id": "1799e351",
   "metadata": {},
   "outputs": [],
   "source": [
    "ts = int(route['arrival_time']['value'])\n",
    "print(datetime.datetime.utcfromtimestamp(ts).strftime('%H:%M'))\n",
    "\n",
    "ts = int(route['departure_time']['value'])\n",
    "print(datetime.datetime.utcfromtimestamp(ts).strftime('%H:%M'))"
   ]
  },
  {
   "cell_type": "code",
   "execution_count": null,
   "id": "27b994d8",
   "metadata": {},
   "outputs": [],
   "source": [
    "transit_modes = []\n",
    "\n",
    "for step in json_resp['routes'][1]['legs'][0]['steps']:\n",
    "    print(step['duration']['text'])\n",
    "    print(step['distance']['text'])\n",
    "    print(step['start_location'])\n",
    "    print(step['end_location'])\n",
    "    print(step['travel_mode'])\n",
    "\n",
    "    if step['travel_mode'] == 'TRANSIT':\n",
    "        print(step['transit_details']['departure_stop']['name'])\n",
    "        print(step['transit_details']['departure_time']['text'])\n",
    "        print(step['transit_details']['arrival_stop']['name'])\n",
    "        print(step['transit_details']['arrival_time']['text'])\n",
    "        print(step['transit_details']['line']['vehicle']['name'])\n",
    "        transit_modes.append(step['transit_details']['line']['vehicle']['name'])\n",
    "    else:\n",
    "        print(step['duration']['value'])\n",
    "        if step['duration']['value'] > 60:\n",
    "            transit_modes.append(step['travel_mode'])\n",
    "            \n",
    "    print('\\n')\n",
    "#     print(step)\n",
    "    print('\\n')"
   ]
  },
  {
   "cell_type": "code",
   "execution_count": null,
   "id": "5fbf5a48",
   "metadata": {},
   "outputs": [],
   "source": [
    "transit_modes"
   ]
  },
  {
   "cell_type": "code",
   "execution_count": null,
   "id": "f0dec8c6",
   "metadata": {},
   "outputs": [],
   "source": [
    "def get_transport_icons(route):\n",
    "    transit_modes = []\n",
    "    icons = []\n",
    "\n",
    "    for step in route['steps']:\n",
    "        if step['travel_mode'] == 'TRANSIT':\n",
    "            mode = step['transit_details']['line']['vehicle']['name']\n",
    "            if mode == 'Bus':\n",
    "                icons.append('ph-bus')\n",
    "            elif mode == 'Train':\n",
    "                icons.append('ph-train-regional')\n",
    "            elif mode == 'Metro':\n",
    "                icons.append('ph-train-simple')\n",
    "            elif mode == 'Tram':\n",
    "                icons.append('ph-train')\n",
    "            else:\n",
    "                icons.append('ph-question')\n",
    "        else:\n",
    "            if step['duration']['value'] > 60:\n",
    "                icons.append('ph-person-simple-walk')\n",
    "                \n",
    "    return icons"
   ]
  },
  {
   "cell_type": "code",
   "execution_count": null,
   "id": "0bf20fc6",
   "metadata": {},
   "outputs": [],
   "source": [
    "def get_journey_details(route):\n",
    "    journey_details = []\n",
    "\n",
    "    for i in range(len(route['steps'])):\n",
    "        step = route['steps'][i]\n",
    "\n",
    "        if step['travel_mode'] == 'WALKING':\n",
    "            if step['duration']['value'] > 60:\n",
    "                step_duration = step['duration']['text']\n",
    "                step_distance = step['distance']['text']\n",
    "                \n",
    "                if i == 0:\n",
    "                    step_start = route['start_address'].split(',')[0]\n",
    "                    step_end = route['steps'][i+1]['transit_details']['departure_stop']['name']\n",
    "                elif i == len(route['steps']) - 1:\n",
    "                    step_start = route['steps'][i-1]['transit_details']['arrival_stop']['name']\n",
    "                    step_end = route['end_address'].split(',')[0]\n",
    "                else:\n",
    "                    step_start = route['steps'][i-1]['transit_details']['arrival_stop']['name']\n",
    "                    step_end = route['steps'][i+1]['transit_details']['departure_stop']['name']\n",
    "                    \n",
    "                step_travel_mode = step['travel_mode']\n",
    "\n",
    "                if i == len(route['steps']) - 1:\n",
    "                    ts_dep = int(route['steps'][i-1]['transit_details']['arrival_time']['value'])\n",
    "                    step_dep_time = datetime.datetime.utcfromtimestamp(ts_dep).strftime('%H:%M')\n",
    "                    ts_arr = int(route['steps'][i-1]['transit_details']['arrival_time']['value']) + int(step['duration']['value'])\n",
    "                    step_arr_time = datetime.datetime.utcfromtimestamp(ts_arr).strftime('%H:%M')\n",
    "                else:\n",
    "                    ts_dep = int(route['steps'][i+1]['transit_details']['departure_time']['value']) - int(step['duration']['value'])\n",
    "                    step_dep_time = datetime.datetime.utcfromtimestamp(ts_dep).strftime('%H:%M')\n",
    "                    ts_arr = int(route['steps'][i+1]['transit_details']['departure_time']['value'])\n",
    "                    step_arr_time = datetime.datetime.utcfromtimestamp(ts_arr).strftime('%H:%M')\n",
    "\n",
    "                step_details = [step_duration, step_distance, step_start, step_dep_time, step_end, step_arr_time, step_travel_mode]\n",
    "                journey_details.append(step_details)\n",
    "\n",
    "        if step['travel_mode'] == 'TRANSIT':\n",
    "            step_duration = step['duration']['text']\n",
    "            step_distance = step['distance']['text']\n",
    "            step_dep_stop = step['transit_details']['departure_stop']['name']\n",
    "            ts_dep = int(step['transit_details']['departure_time']['value'])\n",
    "            step_dep_time = datetime.datetime.utcfromtimestamp(ts_dep).strftime('%H:%M')\n",
    "            step_arr_stop = step['transit_details']['arrival_stop']['name']\n",
    "            ts_arr = int(step['transit_details']['arrival_time']['value'])\n",
    "            step_arr_time = datetime.datetime.utcfromtimestamp(ts_arr).strftime('%H:%M')\n",
    "            step_travel_mode = step['travel_mode']\n",
    "            step_headsign = step['transit_details']['headsign']\n",
    "            step_shortname = step['transit_details']['line']['short_name']\n",
    "            step_num_stops = step['transit_details']['line']['num_stops']\n",
    "            step_details = [step_duration, step_distance, step_dep_stop, step_dep_time, step_arr_stop, step_arr_time, step_headsign, step_shortname, step_num_stops, step_travel_mode]\n",
    "            journey_details.append(step_details)\n",
    "\n",
    "    journey_details.append(len(journey_details))\n",
    "    \n",
    "    return journey_details"
   ]
  },
  {
   "cell_type": "code",
   "execution_count": null,
   "id": "865e9df5",
   "metadata": {},
   "outputs": [],
   "source": [
    "def parse_json(json_resp):\n",
    "    if json_resp['status'] == 'OK':\n",
    "        all_journeys = []\n",
    "        num_journeys = 0\n",
    "\n",
    "        for i in range(len(json_resp['routes'])):\n",
    "            route = json_resp['routes'][i]['legs'][0]\n",
    "            if 'arrival_time' in route:\n",
    "                num_journeys += 1\n",
    "                walk_time = 0\n",
    "                for step in route['steps']:\n",
    "                    if step['travel_mode'] == 'WALKING':\n",
    "                        if step['duration']['value'] > 60:\n",
    "#                             print(step['duration']['value'])\n",
    "                            walk_time += step['duration']['value']\n",
    "#                 print(walk_time)\n",
    "                walk_time = round(walk_time / 60)\n",
    "#                 print(walk_time)\n",
    "#                 print('\\n')\n",
    "\n",
    "                ts_arr = int(route['arrival_time']['value'])\n",
    "                arrival_time = datetime.datetime.utcfromtimestamp(ts_arr).strftime('%H:%M')\n",
    "                ts_dep = int(route['departure_time']['value'])\n",
    "                departure_time = datetime.datetime.utcfromtimestamp(ts_dep).strftime('%H:%M')\n",
    "                distance = route['distance']['text']\n",
    "                duration = route['duration']['text']\n",
    "                start_address = route['start_address'].split(',')[0]\n",
    "                end_address = route['end_address'].split(',')[0]\n",
    "                end_weather = get_darksky_features(route['end_location']['lng'], route['end_location']['lat'], datetime.datetime.today())\n",
    "                print(end_weather)\n",
    "#                 weather_icon = determine_weather_icon(end_weather['hourly']['icon'])\n",
    "                weather_result = [end_weather['hourly']['summary'], end_weather['currently']['precipProbability'], end_weather['currently']['temperature']]\n",
    "                icons = get_transport_icons(route)\n",
    "                route_details = get_journey_details(route)\n",
    "                results = [departure_time, arrival_time, duration, walk_time, icons, len(icons)-1, distance, start_address, end_address, weather_result, route_details]\n",
    "                all_journeys.append(results)\n",
    "        all_journeys.append(num_journeys)\n",
    "\n",
    "    else:\n",
    "        all_journeys = ['No routes found']\n",
    "\n",
    "    return all_journeys\n",
    "        "
   ]
  },
  {
   "cell_type": "code",
   "execution_count": null,
   "id": "0b8a34d4",
   "metadata": {},
   "outputs": [],
   "source": [
    "j = parse_json(json_resp)"
   ]
  },
  {
   "cell_type": "code",
   "execution_count": null,
   "id": "1d721c14",
   "metadata": {
    "scrolled": false
   },
   "outputs": [],
   "source": [
    "j"
   ]
  },
  {
   "cell_type": "code",
   "execution_count": null,
   "id": "daa3413b",
   "metadata": {
    "scrolled": true
   },
   "outputs": [],
   "source": [
    "def go_walk(last_departure_stop, last_departure_time, last_arrival_stop, last_arrival_time, final_destination, final_arrival_time, walking_time, last_walking_time):\n",
    "    \n",
    "    # read to use the csv of line 40\n",
    "    df = pd.read_csv('lijn40_ordered.csv')\n",
    "    \n",
    "    # the orderlocation of the busstop where the last leg starts\n",
    "    A = df[df['haltenaam'].str.contains(last_departure_stop)].index.values[0]\n",
    "    \n",
    "    # the order location of the arrival stop\n",
    "    B = df[df['haltenaam'].str.contains(last_arrival_stop)].index.values[0]\n",
    "    \n",
    "    # get all stops in between the start and arrival of the last leg and order them correctly\n",
    "    if A < B:\n",
    "        stoplist = df[A:B+1]['haltenaam']\n",
    "    if B < A:\n",
    "        stoplist = df[B:A+1]['haltenaam'][::-1]\n",
    "    \n",
    "    # get the walking time and distance from each stop to the final destination\n",
    "    results = []\n",
    "    for stop in stoplist[:-1]:\n",
    "        url = \"https://maps.googleapis.com/maps/api/directions/json?origin={origin}&destination={destination}&mode=walking&key=\".format(origin=stop, destination=final_destination) + GOOGLE_MAPS_KEY\n",
    "        payload={}\n",
    "        headers = {}\n",
    "        response = requests.request(\"GET\", url, headers=headers, data=payload)\n",
    "        response = json.loads(response.text)\n",
    "        \n",
    "        # get duration and distance\n",
    "        duration = response['routes'][0]['legs'][0]['duration']['text']\n",
    "        distance = response['routes'][0]['legs'][0]['distance']['text']\n",
    "        \n",
    "        # get start address (for control if it picked the right lcoation)\n",
    "        start_address = response['routes'][0]['legs'][0]['start_address'].split(',')[0]\n",
    "        \n",
    "        duration_int = int(duration.split(' ')[0])\n",
    "        duration = duration_int - last_walking_time\n",
    "        final_walk_time = duration_int + walking_time - last_walking_time \n",
    "#         walk_without_last_leg = \n",
    "        \n",
    "        # order results that are returened\n",
    "        results.append([start_address, duration, distance, final_walk_time])\n",
    "        \n",
    "        # get lng and lat of end location for weather\n",
    "        end = response['routes'][0]['legs'][0]['end_location']\n",
    "    \n",
    "    return results\n",
    "\n",
    "\n",
    "last_departure_stop = j[0][-1][-3][2]\n",
    "last_departure_time = j[0][-1][-3][3]\n",
    "last_arrival_stop = j[0][-1][-3][4]\n",
    "last_arrival_time = j[0][-1][-3][5]\n",
    "final_destination = j[0][8]\n",
    "final_arrival_time = j[0][1]\n",
    "walking_time = j[0][3]\n",
    "last_walking_time = int(j[0][-1][-2][0].split(' ')[0])\n",
    "\n",
    "go_walk(last_departure_stop, last_departure_time, last_arrival_stop, last_arrival_time, final_destination, final_arrival_time, walking_time, last_walking_time)"
   ]
  },
  {
   "cell_type": "code",
   "execution_count": null,
   "id": "0c4c1ded",
   "metadata": {},
   "outputs": [],
   "source": [
    "j[0][3]\n",
    "# int(j[0][-1][-2][0].split(' ')[0])"
   ]
  },
  {
   "cell_type": "code",
   "execution_count": null,
   "id": "4be7fdc9",
   "metadata": {},
   "outputs": [],
   "source": [
    "\n",
    "df = pd.read_csv('lijn40_ordered.csv')\n",
    "df[df['haltenaam'].str.contains(last_arrival_stop)].index.values[0]"
   ]
  },
  {
   "cell_type": "code",
   "execution_count": null,
   "id": "892b8d31",
   "metadata": {},
   "outputs": [],
   "source": [
    "route = json_resp['routes'][1]['legs'][0]\n",
    "route['steps'][4]['transit_details']['headsign']\n",
    "route['steps'][4]['transit_details']['num_stops']"
   ]
  },
  {
   "cell_type": "code",
   "execution_count": null,
   "id": "52654b0c",
   "metadata": {
    "scrolled": true
   },
   "outputs": [],
   "source": [
    "get_darksky_features(route['end_location']['lng'], route['end_location']['lat'], datetime.datetime.today())"
   ]
  },
  {
   "cell_type": "code",
   "execution_count": null,
   "id": "373b3f01",
   "metadata": {},
   "outputs": [],
   "source": [
    "route['steps'][0]['travel_mode']"
   ]
  },
  {
   "cell_type": "code",
   "execution_count": null,
   "id": "b352be15",
   "metadata": {},
   "outputs": [],
   "source": [
    "num_journeys = 0\n",
    "for i in range(len(json_resp['routes'])):\n",
    "    route = json_resp['routes'][i]['legs'][0]\n",
    "    if 'arrival_time' in route:\n",
    "        print('yes')\n",
    "        num_journeys += 1\n",
    "        \n",
    "num_journeys"
   ]
  },
  {
   "cell_type": "code",
   "execution_count": null,
   "id": "eaecb4fd",
   "metadata": {},
   "outputs": [],
   "source": [
    "walk_time = 0\n",
    "for step in route['steps']:\n",
    "    if step['travel_mode'] == 'WALKING':\n",
    "        walk_time += step['duration']['value']"
   ]
  },
  {
   "cell_type": "code",
   "execution_count": null,
   "id": "c1b10ba6",
   "metadata": {},
   "outputs": [],
   "source": [
    "round(walk_time / 60)"
   ]
  },
  {
   "cell_type": "code",
   "execution_count": null,
   "id": "c82875b5",
   "metadata": {},
   "outputs": [],
   "source": [
    "g = geocoder.osm([52.3717958, 4.965470499999999], method='reverse')"
   ]
  },
  {
   "cell_type": "code",
   "execution_count": null,
   "id": "af6124d0",
   "metadata": {},
   "outputs": [],
   "source": [
    "print(g.street + g.housenumber)"
   ]
  },
  {
   "cell_type": "code",
   "execution_count": null,
   "id": "10e917e1",
   "metadata": {},
   "outputs": [],
   "source": []
  }
 ],
 "metadata": {
  "kernelspec": {
   "display_name": "Python 3 (ipykernel)",
   "language": "python",
   "name": "python3"
  },
  "language_info": {
   "codemirror_mode": {
    "name": "ipython",
    "version": 3
   },
   "file_extension": ".py",
   "mimetype": "text/x-python",
   "name": "python",
   "nbconvert_exporter": "python",
   "pygments_lexer": "ipython3",
   "version": "3.9.7"
  }
 },
 "nbformat": 4,
 "nbformat_minor": 5
}
